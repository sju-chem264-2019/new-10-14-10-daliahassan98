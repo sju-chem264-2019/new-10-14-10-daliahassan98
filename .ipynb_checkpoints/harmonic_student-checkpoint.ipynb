{
 "cells": [
  {
   "cell_type": "markdown",
   "metadata": {},
   "source": [
    "# The Harmonic Oscillator Strikes Back"
   ]
  },
  {
   "cell_type": "markdown",
   "metadata": {},
   "source": [
    "*Note:* Much of this is adapted/copied from https://flothesof.github.io/harmonic-oscillator-three-methods-solution.html"
   ]
  },
  {
   "cell_type": "markdown",
   "metadata": {},
   "source": [
    "This week we continue our adventures with the harmonic oscillator.\n",
    "\n",
    "![1D Harmonic Oscillator](ho.png) "
   ]
  },
  {
   "cell_type": "markdown",
   "metadata": {},
   "source": [
    "The harmonic oscillator is a system that, when displaced from its equilibrium position, experiences a restoring force F proportional to the displacement x:\n",
    "\n",
    "$$F=-kx$$\n",
    "\n",
    "The potential energy of this system is \n",
    "\n",
    "$$V = {1 \\over 2}k{x^2}$$"
   ]
  },
  {
   "cell_type": "markdown",
   "metadata": {},
   "source": [
    "These are sometime rewritten as\n",
    "\n",
    "$$ F=- \\omega_0^2 m x, \\text{ }  V(x) = {1 \\over 2} m \\omega_0^2 {x^2}$$\n",
    "\n",
    "Where $\\omega_0  = \\sqrt {{k \\over m}} $"
   ]
  },
  {
   "cell_type": "markdown",
   "metadata": {},
   "source": [
    "If the equilibrium value of the harmonic oscillator is not zero, then \n",
    "\n",
    "$$ F=- \\omega_0^2 m (x-x_{eq}), \\text{ }  V(x) = {1 \\over 2} m \\omega_0^2 (x-x_{eq})^2$$"
   ]
  },
  {
   "cell_type": "markdown",
   "metadata": {},
   "source": [
    "## 1. Harmonic oscillator from last time (with some better defined conditions)"
   ]
  },
  {
   "cell_type": "markdown",
   "metadata": {},
   "source": [
    "Applying the harmonic oscillator force to Newton's second law leads to the following second order differential equation\n",
    "\n",
    "$$ F = m a $$\n",
    "\n",
    "$$ F= -m \\omega_0^2 (x-x_{eq}) $$\n",
    "\n",
    "$$ a = - \\omega_0^2 (x-x_{eq}) $$\n",
    "\n",
    "$$ x(t)'' = - \\omega_0^2 (x-x_{eq}) $$"
   ]
  },
  {
   "cell_type": "markdown",
   "metadata": {},
   "source": [
    "The final expression can be rearranged into a second order homogenous differential equation, and can be solved using the methods we used above"
   ]
  },
  {
   "cell_type": "markdown",
   "metadata": {},
   "source": [
    "This is already solved to remind you how we found these values"
   ]
  },
  {
   "cell_type": "code",
   "execution_count": 1,
   "metadata": {},
   "outputs": [],
   "source": [
    "import sympy as sym\n",
    "sym.init_printing()"
   ]
  },
  {
   "cell_type": "markdown",
   "metadata": {},
   "source": [
    "**Note** that this time we define some of the properties of the symbols. Namely, that the frequency is always positive and real and that the positions are always real"
   ]
  },
  {
   "cell_type": "code",
   "execution_count": 2,
   "metadata": {},
   "outputs": [
    {
     "data": {
      "image/png": "[encoded data removed]",
      "text/latex": [
       "$\\displaystyle \\left( x{\\left(t \\right)}, \\  \\omega_{0}\\right)$"
      ],
      "text/plain": [
       "(x(t), ω₀)"
      ]
     },
     "execution_count": 2,
     "metadata": {},
     "output_type": "execute_result"
    }
   ],
   "source": [
    "omega0,t=sym.symbols(\"omega_0,t\",positive=True,nonnegative=True,real=True)\n",
    "xeq=sym.symbols(\"x_{eq}\",real=True)\n",
    "x=sym.Function(\"x\",real=True)\n",
    "x(t),omega0"
   ]
  },
  {
   "cell_type": "code",
   "execution_count": 3,
   "metadata": {},
   "outputs": [
    {
     "data": {
      "image/png": "[encoded data removed]",
      "text/latex": [
       "$\\displaystyle \\omega_{0}^{2} \\left(- x_{eq} + x{\\left(t \\right)}\\right) + \\frac{d^{2}}{d t^{2}} x{\\left(t \\right)}$"
      ],
      "text/plain": [
       "                         2      \n",
       "  2                     d       \n",
       "ω₀ ⋅(-x_{eq} + x(t)) + ───(x(t))\n",
       "                         2      \n",
       "                       dt       "
      ]
     },
     "execution_count": 3,
     "metadata": {},
     "output_type": "execute_result"
    }
   ],
   "source": [
    "dfeq=sym.Derivative(x(t),t,2)+omega0**2*(x(t)-xeq)\n",
    "dfeq"
   ]
  },
  {
   "cell_type": "code",
   "execution_count": 4,
   "metadata": {},
   "outputs": [
    {
     "data": {
      "image/png": "[encoded data removed]",
      "text/latex": [
       "$\\displaystyle x{\\left(t \\right)} = C_{1} \\sin{\\left(\\omega_{0} t \\right)} + C_{2} \\cos{\\left(\\omega_{0} t \\right)} + x_{eq}$"
      ],
      "text/plain": [
       "x(t) = C₁⋅sin(ω₀⋅t) + C₂⋅cos(ω₀⋅t) + x_{eq}"
      ]
     },
     "execution_count": 4,
     "metadata": {},
     "output_type": "execute_result"
    }
   ],
   "source": [
    "sol = sym.dsolve(dfeq)\n",
    "sol"
   ]
  },
  {
   "cell_type": "code",
   "execution_count": 5,
   "metadata": {},
   "outputs": [
    {
     "data": {
      "image/png": "[encoded data removed]",
      "text/latex": [
       "$\\displaystyle \\left( x{\\left(t \\right)} = C_{1} \\sin{\\left(\\omega_{0} t \\right)} + C_{2} \\cos{\\left(\\omega_{0} t \\right)} + x_{eq}, \\  x{\\left(t \\right)}, \\  C_{1} \\sin{\\left(\\omega_{0} t \\right)} + C_{2} \\cos{\\left(\\omega_{0} t \\right)} + x_{eq}\\right)$"
      ],
      "text/plain": [
       "(x(t) = C₁⋅sin(ω₀⋅t) + C₂⋅cos(ω₀⋅t) + x_{eq}, x(t), C₁⋅sin(ω₀⋅t) + C₂⋅cos(ω₀⋅t\n",
       ") + x_{eq})"
      ]
     },
     "execution_count": 5,
     "metadata": {},
     "output_type": "execute_result"
    }
   ],
   "source": [
    "sol,sol.args[0],sol.args[1]"
   ]
  },
  {
   "cell_type": "markdown",
   "metadata": {},
   "source": [
    "**Note** this time we define the initial positions and velocities as real"
   ]
  },
  {
   "cell_type": "code",
   "execution_count": 6,
   "metadata": {},
   "outputs": [
    {
     "data": {
      "image/png": "[encoded data removed]",
      "text/latex": [
       "$\\displaystyle \\left[ C_{2} + x_{eq} = x_{0}, \\  C_{1} \\omega_{0} = v_{0}\\right]$"
      ],
      "text/plain": [
       "[C₂ + x_{eq} = x₀, C₁⋅ω₀ = v₀]"
      ]
     },
     "execution_count": 6,
     "metadata": {},
     "output_type": "execute_result"
    }
   ],
   "source": [
    "x0,v0=sym.symbols(\"x_0,v_0\",real=True)\n",
    "ics=[sym.Eq(sol.args[1].subs(t, 0), x0),\n",
    "     sym.Eq(sol.args[1].diff(t).subs(t, 0), v0)]\n",
    "ics"
   ]
  },
  {
   "cell_type": "code",
   "execution_count": 7,
   "metadata": {},
   "outputs": [
    {
     "data": {
      "image/png": "[encoded data removed]",
      "text/latex": [
       "$\\displaystyle \\left[ \\left\\{ C_{1} : \\frac{v_{0}}{\\omega_{0}}, \\  C_{2} : x_{0} - x_{eq}\\right\\}\\right]$"
      ],
      "text/plain": [
       "⎡⎧    v₀                 ⎫⎤\n",
       "⎢⎨C₁: ──, C₂: x₀ - x_{eq}⎬⎥\n",
       "⎣⎩    ω₀                 ⎭⎦"
      ]
     },
     "execution_count": 7,
     "metadata": {},
     "output_type": "execute_result"
    }
   ],
   "source": [
    "solved_ics=sym.solve(ics)\n",
    "solved_ics"
   ]
  },
  {
   "cell_type": "markdown",
   "metadata": {},
   "source": [
    "### 1.1 Equation of motion for $x(t)$"
   ]
  },
  {
   "cell_type": "code",
   "execution_count": 8,
   "metadata": {},
   "outputs": [
    {
     "data": {
      "image/png": "[encoded data removed]",
      "text/latex": [
       "$\\displaystyle x{\\left(t \\right)} = x_{eq} + \\left(x_{0} - x_{eq}\\right) \\cos{\\left(\\omega_{0} t \\right)} + \\frac{v_{0} \\sin{\\left(\\omega_{0} t \\right)}}{\\omega_{0}}$"
      ],
      "text/plain": [
       "                                          v₀⋅sin(ω₀⋅t)\n",
       "x(t) = x_{eq} + (x₀ - x_{eq})⋅cos(ω₀⋅t) + ────────────\n",
       "                                               ω₀     "
      ]
     },
     "execution_count": 8,
     "metadata": {},
     "output_type": "execute_result"
    }
   ],
   "source": [
    "full_sol = sol.subs(solved_ics[0])\n",
    "full_sol"
   ]
  },
  {
   "cell_type": "markdown",
   "metadata": {},
   "source": [
    "### 1.2 Equation of motion for $p(t)$"
   ]
  },
  {
   "cell_type": "code",
   "execution_count": 9,
   "metadata": {},
   "outputs": [
    {
     "data": {
      "image/png": "[encoded data removed]",
      "text/latex": [
       "$\\displaystyle p{\\left(t \\right)} = m \\left(- \\omega_{0} \\left(x_{0} - x_{eq}\\right) \\sin{\\left(\\omega_{0} t \\right)} + v_{0} \\cos{\\left(\\omega_{0} t \\right)}\\right)$"
      ],
      "text/plain": [
       "p(t) = m⋅(-ω₀⋅(x₀ - x_{eq})⋅sin(ω₀⋅t) + v₀⋅cos(ω₀⋅t))"
      ]
     },
     "execution_count": 9,
     "metadata": {},
     "output_type": "execute_result"
    }
   ],
   "source": [
    "m=sym.symbols(\"m\",positive=True,nonnegative=True,real=True)\n",
    "p=sym.Function(\"p\")\n",
    "sym.Eq(p(t),m*sol.args[1].subs(solved_ics[0]).diff(t))\n",
    "momentum=sym.Eq(p(t),m*sol.args[1].subs(solved_ics[0]).diff(t))\n",
    "momentum"
   ]
  },
  {
   "cell_type": "markdown",
   "metadata": {},
   "source": [
    "## 2. Time average values for a harmonic oscillator"
   ]
  },
  {
   "cell_type": "markdown",
   "metadata": {},
   "source": [
    "If we want to understand the average value of a time dependent observable, we need to solve the following integral\n",
    "\n",
    "\n",
    "$${\\left\\langle {A(t)} \\right\\rangle}_t  = \\begin{array}{*{20}{c}}\n",
    "{\\lim }\\\\\n",
    "{\\tau  \\to 0}\n",
    "\\end{array}\\frac{1}{\\tau }\\int\\limits_0^\\tau  {A(t)dt} $$"
   ]
  },
  {
   "cell_type": "markdown",
   "metadata": {},
   "source": [
    "### 2.1 Average position ${\\left\\langle {x} \\right\\rangle}_t$ for a harmonic oscillator"
   ]
  },
  {
   "cell_type": "code",
   "execution_count": 16,
   "metadata": {},
   "outputs": [
    {
     "data": {
      "image/png": "[encoded data removed]",
      "text/latex": [
       "$\\displaystyle \\lim_{\\tau \\to \\infty}\\left(\\frac{\\tau x_{eq} + \\frac{\\left(x_{0} - x_{eq}\\right) \\sin{\\left(\\omega_{0} \\tau \\right)}}{\\omega_{0}} - \\frac{v_{0} \\cos{\\left(\\omega_{0} \\tau \\right)}}{\\omega_{0}^{2}} + \\frac{v_{0}}{\\omega_{0}^{2}}}{\\tau}\\right)$"
      ],
      "text/plain": [
       "    ⎛           (x₀ - x_{eq})⋅sin(ω₀⋅τ)   v₀⋅cos(ω₀⋅τ)    v₀⎞\n",
       "    ⎜τ⋅x_{eq} + ─────────────────────── - ──────────── + ───⎟\n",
       "    ⎜                      ω₀                   2          2⎟\n",
       "    ⎜                                         ω₀         ω₀ ⎟\n",
       "lim ⎜───────────────────────────────────────────────────────⎟\n",
       "τ─→∞⎝                           τ                           ⎠"
      ]
     },
     "execution_count": 16,
     "metadata": {},
     "output_type": "execute_result"
    }
   ],
   "source": [
    "tau=sym.symbols(\"tau\",nonnegative=True,real=True)\n",
    "xfunc=full_sol.args[1]\n",
    "xavet=(xfunc.integrate((t,0,tau))/tau).limit(tau,sym.oo)\n",
    "xavet"
   ]
  },
  {
   "cell_type": "markdown",
   "metadata": {},
   "source": [
    "The computer does not always make the best choices the first time. If you treat each sum individually this is not a hard limit to do by hand. The computer is not smart. We can help it by inseting an `expand()` function in the statement"
   ]
  },
  {
   "cell_type": "code",
   "execution_count": 18,
   "metadata": {},
   "outputs": [
    {
     "data": {
      "image/png": "[encoded data removed]",
      "text/latex": [
       "$\\displaystyle x_{eq}$"
      ],
      "text/plain": [
       "x_{eq}"
      ]
     },
     "execution_count": 18,
     "metadata": {},
     "output_type": "execute_result"
    }
   ],
   "source": [
    "xavet=(xfunc.integrate((t,0,tau))/tau).expand().limit(tau,sym.oo)\n",
    "xavet"
   ]
  },
  {
   "cell_type": "markdown",
   "metadata": {},
   "source": [
    "### 2.2 Excercise: Calculate the average momenta  ${\\left\\langle {p} \\right\\rangle}_t$ for a harmonic oscillator"
   ]
  },
  {
   "cell_type": "code",
   "execution_count": 19,
   "metadata": {},
   "outputs": [
    {
     "data": {
      "image/png": "[encoded data removed]",
      "text/latex": [
       "$\\displaystyle 0$"
      ],
      "text/plain": [
       "0"
      ]
     },
     "execution_count": 19,
     "metadata": {},
     "output_type": "execute_result"
    }
   ],
   "source": [
    "# Your code here\n",
    "#The momentum function is from exercise 1.2, I called it momentum\n",
    "tau=sym.symbols(\"tau\",nonnegative=True,real=True)\n",
    "pfunc=momentum.args[1]\n",
    "pavet=(pfunc.integrate((t,0,tau))/tau).limit(tau,sym.oo)\n",
    "pavet"
   ]
  },
  {
   "cell_type": "markdown",
   "metadata": {},
   "source": [
    "### 2.3 Exercise: Calculate the average kinetic energy of a harmonic oscillator"
   ]
  },
  {
   "cell_type": "code",
   "execution_count": 20,
   "metadata": {},
   "outputs": [
    {
     "data": {
      "image/png": "[encoded data removed]",
      "text/latex": [
       "$\\displaystyle \\frac{\\left\\langle -1, 0\\right\\rangle m^{2} \\omega_{0}^{2} x_{0} x_{eq} + \\left\\langle 0, \\frac{1}{2}\\right\\rangle m^{2} \\omega_{0}^{2} x_{0}^{2} + \\left\\langle 0, \\frac{1}{2}\\right\\rangle m^{2} \\omega_{0}^{2} x_{eq}^{2} + \\left\\langle 0, \\frac{1}{2}\\right\\rangle m^{2} v_{0}^{2}}{m}$"
      ],
      "text/plain": [
       "         2   2                       2   2   2             2   2       2      \n",
       "<-1, 0>⋅m ⋅ω₀ ⋅x₀⋅x_{eq} + <0, 1/2>⋅m ⋅ω₀ ⋅x₀  + <0, 1/2>⋅m ⋅ω₀ ⋅x_{eq}  + <0,\n",
       "──────────────────────────────────────────────────────────────────────────────\n",
       "                                            m                                 \n",
       "\n",
       "       2   2\n",
       " 1/2>⋅m ⋅v₀ \n",
       "────────────\n",
       "            "
      ]
     },
     "execution_count": 20,
     "metadata": {},
     "output_type": "execute_result"
    }
   ],
   "source": [
    "# Your code here\n",
    "#KE=p**2/2m\n",
    "tau=sym.symbols(\"tau\",nonnegative=True,real=True)\n",
    "m=sym.symbols(\"m\",nonnegative=True,real=True)\n",
    "KE=(pfunc**2)/(2*m)\n",
    "KEavet=(KE.integrate((t,0,tau))/tau).expand().limit(tau,sym.oo).cancel()\n",
    "#the expand and cancel commands should help simplify everything\n",
    "KEavet"
   ]
  },
  {
   "cell_type": "markdown",
   "metadata": {},
   "source": [
    "## 3.  Ensemble (Thermodynamic) Average values for a harmonic oscillator"
   ]
  },
  {
   "cell_type": "markdown",
   "metadata": {},
   "source": [
    "If we want to understand the thermodynamics ensemble average value of an observable, we need to solve the following integral. \n",
    "\n",
    "\n",
    "$${\\left\\langle {A(t)} \\right\\rangle}_{T}  = \\frac{\\int{A e^{-\\beta H}dqdp}}{\\int{e^{-\\beta H}dqdp} } $$\n",
    "\n",
    "You can think of this as a Temperature average instead of a time average.\n",
    "\n",
    "Here $\\beta=\\frac{1}{k_B T}$ and the classical Hamiltonian, $H$ is\n",
    "\n",
    "$$ H = \\frac{p^2}{2 m} + V(q)$$\n",
    "\n",
    "**Note** that the factors of $1/h$ found in the classical partition function cancel out when calculating average values"
   ]
  },
  {
   "cell_type": "markdown",
   "metadata": {},
   "source": [
    "### 3.1 Average position ${\\left\\langle {x} \\right\\rangle}_t$ for a harmonic oscillator"
   ]
  },
  {
   "cell_type": "markdown",
   "metadata": {},
   "source": [
    "For a harmonic oscillator with equilibrium value $x_{eq}$, the Hamiltonian is \n",
    "$$ H = \\frac{p^2}{2 m} + \\frac{1}{2} m \\omega_0 (x-x_{eq})^2 $$"
   ]
  },
  {
   "cell_type": "markdown",
   "metadata": {},
   "source": [
    "First we will calculate the partition function $\\int{e^{-\\beta H}dqdp}$"
   ]
  },
  {
   "cell_type": "code",
   "execution_count": 21,
   "metadata": {},
   "outputs": [],
   "source": [
    "from sympy import *"
   ]
  },
  {
   "cell_type": "code",
   "execution_count": 23,
   "metadata": {},
   "outputs": [],
   "source": [
    "k,T=sym.symbols(\"k,T\",positive=True,nonnegative=True,real=True)\n",
    "xT,pT=sym.symbols(\"x_T,p_T\",real=True)\n",
    "ham=sym.Rational(1,2)*(pT)**2/m + sym.Rational(1,2)*m*omega0**2*(xT-xeq)**2\n",
    "beta=1/(k*T)\n",
    "bolz=sym.exp(-beta*ham)\n",
    "#solve for the denominator\n",
    "#den=sym.integrate(bolz,(xT,-sym.oo,sym.oo),(pT,-sym.oo,sym.oo))\n",
    "#den\n",
    "#For some reason this integral cannot be solved on my laptop"
   ]
  },
  {
   "cell_type": "markdown",
   "metadata": {},
   "source": [
    "Then we can calculate the numerator $\\int{A e^{-\\beta H}dqdp}$\n"
   ]
  },
  {
   "cell_type": "code",
   "execution_count": 25,
   "metadata": {},
   "outputs": [],
   "source": [
    "#numx=sym.integrate(xT*bolz,(xT,-sym.oo,sym.oo),(pT,-sym.oo,sym.oo))\n",
    "#numx"
   ]
  },
  {
   "cell_type": "markdown",
   "metadata": {},
   "source": [
    "And now the average value"
   ]
  },
  {
   "cell_type": "code",
   "execution_count": 26,
   "metadata": {},
   "outputs": [],
   "source": [
    "#xaveT=numx/den\n",
    "#xaveT"
   ]
  },
  {
   "cell_type": "markdown",
   "metadata": {},
   "source": [
    "### 3.2 Exercise: Calculate the average momenta  ${\\left\\langle {p} \\right\\rangle}_t$ for a harmonic oscillator\n",
    "\n",
    "After calculating the value, explain why you think you got this number "
   ]
  },
  {
   "cell_type": "code",
   "execution_count": 29,
   "metadata": {},
   "outputs": [],
   "source": [
    "#denominator\n",
    "k,T=sym.symbols(\"k,T\")\n",
    "xT,pT=sym.symbols(\"x_T,p_T\",real=True)\n",
    "ham=sym.Rational(1,2)*(pT)**2/m + sym.Rational(1,2)*m*omega0**2*(xT-xeq)**2\n",
    "beta=1/(k*T)\n",
    "bolz=sym.exp(-beta*ham)\n",
    "#z=sym.integrate(bolz,(xT,-sym.oo,sym.oo),(pT,-sym.oo,sym.oo))\n",
    "#z"
   ]
  },
  {
   "cell_type": "code",
   "execution_count": 30,
   "metadata": {},
   "outputs": [],
   "source": [
    "#numerator\n",
    "#nump=sym.integrate(pT*bolz,(xT,-sym.oo,sym.oo),(pT,-sym.oo,sym.oo))"
   ]
  },
  {
   "cell_type": "code",
   "execution_count": 31,
   "metadata": {},
   "outputs": [],
   "source": [
    "#averagevalue\n",
    "#paveT=nump/z\n",
    "#paveT"
   ]
  },
  {
   "cell_type": "markdown",
   "metadata": {},
   "source": [
    "### 3.3 Exercise: Calculate the average kinetic energy\n",
    "\n",
    "The answer you get here is a well known result related to the energy equipartition theorem"
   ]
  },
  {
   "cell_type": "code",
   "execution_count": 32,
   "metadata": {},
   "outputs": [],
   "source": [
    "#denominator\n",
    "k,T=sym.symbols(\"k,T\",positive=True,nonnegative=True,real=True)\n",
    "xT,pT=sym.symbols(\"x_T,p_T\",real=True)\n",
    "ham=sym.Rational(1,2)*(pT)**2/m + sym.Rational(1,2)*m*omega0**2*(xT-xeq)**2\n",
    "beta=1/(k*T)\n",
    "bolz=sym.exp(-beta*ham)\n",
    "#z=sym.integrate(bolz,(xT,-sym.oo,sym.oo),(pT,-sym.oo,sym.oo))\n",
    "#z"
   ]
  },
  {
   "cell_type": "code",
   "execution_count": 33,
   "metadata": {},
   "outputs": [],
   "source": [
    "#numerator\n",
    "#numKE=sym.integrate(KE*bolz,(xT,-sym.oo,sym.oo),(pT,-sym.oo,sym.oo))"
   ]
  },
  {
   "cell_type": "code",
   "execution_count": 34,
   "metadata": {},
   "outputs": [],
   "source": [
    "#averagevalue\n",
    "#KEaveT=numKE/z\n",
    "#KEaveT"
   ]
  },
  {
   "cell_type": "markdown",
   "metadata": {},
   "source": [
    "# Back to the lecture"
   ]
  },
  {
   "cell_type": "markdown",
   "metadata": {},
   "source": [
    "## 4. Exercise Verlet integrators"
   ]
  },
  {
   "cell_type": "markdown",
   "metadata": {},
   "source": [
    "In this exercise we will write a routine to solve for the equations of motion for a hamonic oscillator.\n",
    "\n",
    "Plot the positions and momenta (seprate plots) of the harmonic oscillator as a functions of time.\n",
    "\n",
    "Calculaate trajectories using the following methods:\n",
    "1. Exact solution\n",
    "2. Simple taylor series expansion\n",
    "3. Predictor-corrector method\n",
    "4. Verlet algorithm\n",
    "5. Leapfrog algorithm\n",
    "6. Velocity Verlet algorithm"
   ]
  },
  {
   "cell_type": "code",
   "execution_count": 22,
   "metadata": {},
   "outputs": [],
   "source": [
    "# Your code here\n",
    "# plot position\n",
    "%matplotlib inline"
   ]
  },
  {
   "cell_type": "code",
   "execution_count": 48,
   "metadata": {},
   "outputs": [
    {
     "data": {
      "image/png": "[encoded data removed]",
      "text/plain": [
       "<Figure size 432x288 with 1 Axes>"
      ]
     },
     "metadata": {
      "needs_background": "light"
     },
     "output_type": "display_data"
    },
    {
     "data": {
      "text/plain": [
       "<sympy.plotting.plot.Plot at 0x1d72d7772b0>"
      ]
     },
     "execution_count": 48,
     "metadata": {},
     "output_type": "execute_result"
    }
   ],
   "source": [
    "#position\n",
    "omega0,t=sym.symbols(\"omega_0,t\",positive=True,nonnegative=True,real=True)\n",
    "xeq=sym.symbols(\"x_{eq}\",real=True)\n",
    "x=sym.Function(\"x\",real=True)\n",
    "#full_sol\n",
    "full_sol1 = sym.simplify(full_sol.subs({x0:10, xeq:0 , v0:10, omega0:1}))\n",
    "#full_sol1\n",
    "sym.plot(full_sol1.rhs,(t,-10,10))"
   ]
  },
  {
   "cell_type": "code",
   "execution_count": 54,
   "metadata": {},
   "outputs": [
    {
     "data": {
      "image/png": "[encoded data removed]",
      "text/plain": [
       "<Figure size 432x288 with 1 Axes>"
      ]
     },
     "metadata": {
      "needs_background": "light"
     },
     "output_type": "display_data"
    },
    {
     "data": {
      "text/plain": [
       "<sympy.plotting.plot.Plot at 0x1d72d8db2e8>"
      ]
     },
     "execution_count": 54,
     "metadata": {},
     "output_type": "execute_result"
    }
   ],
   "source": [
    "#momentum\n",
    "m=sym.symbols(\"m\",positive=True,nonnegative=True,real=True)\n",
    "p=sym.Function(\"p\")\n",
    "sym.Eq(p(t),m*sol.args[1].subs(solved_ics[0]).diff(t))\n",
    "momentum=sym.Eq(p(t),m*sol.args[1].subs(solved_ics[0]).diff(t))\n",
    "#momentum\n",
    "momentum1=sym.simplify(momentum.subs({x0:10, xeq:0, v0:10, omega0:1, m:1}))\n",
    "#momentum1\n",
    "sym.plot(momentum1.rhs,(t,-10,10))"
   ]
  },
  {
   "cell_type": "code",
   "execution_count": null,
   "metadata": {},
   "outputs": [],
   "source": [
    "#1:Exact Solution"
   ]
  },
  {
   "cell_type": "code",
   "execution_count": 31,
   "metadata": {},
   "outputs": [],
   "source": [
    "#2a: Simple Taylor Series Expansion\n",
    "#X_t=X_t0+(p_to/m)*(tf-ti)\n",
    "import sympy as sym\n",
    "import numpy as np\n",
    "import matplotlib.pyplot as plt\n",
    "\n",
    "plt.style.use(\"ggplot\")\n",
    "\n",
    "# Define the variable and the function to approximate\n",
    "x_t0,p_t0,m,t=sym.symbols(\"x_t0,p_t0,m,t\", positive=True,nonnegative=True,real=True)\n",
    "x_t=x_t0+(p_t0/m)*(t)\n",
    "\n",
    "def function(x_t):\n",
    "    i = 0\n",
    "    x_t0 = 0\n",
    "    p_t0 = 1\n",
    "    m = 1\n",
    "    t = 1\n",
    "    while t <= 10:\n",
    "        x_t = x_t0+(p_t0/m)*(t)\n",
    "        t += 1\n",
    "        x_t=x_t0\n",
    "    return x_t\n",
    "    sym.plot(x_t.rhs,(t,0,10))"
   ]
  },
  {
   "cell_type": "code",
   "execution_count": null,
   "metadata": {},
   "outputs": [],
   "source": [
    "#2b: Simple Taylor Series Expansion: Momentum\n",
    "#p_t=p_t0+m*a_t0*(tf-ti)\n",
    "#2a: Simple Taylor Series Expansion\n",
    "#X_t=X_t0+(p_to/m)*(tf-ti)\n",
    "import sympy as sym\n",
    "x_t0,p_t0,m,t=sym.symbols(\"x_t0,p_t0,m,t\", positive=True,nonnegative=True,real=True)\n",
    "x_t=sym.Function(\"x_t\")\n",
    "if (x_t0 < 0.0):\n",
    "    Print(\"This is not possible!! You are a fool!!!\")\n",
    "else:\n",
    "    i = 1\n",
    "    x_t0 = 0\n",
    "    p_t0=1\n",
    "    m=1\n",
    "    t=0\n",
    "    x_t=x_t0+(p_t0/m)*(t)\n",
    "while (x_t<10):\n",
    "    x_t = x_t0\n",
    "    break\n",
    "\n",
    "sym.plot((x_t0+(p_t0/m)*(t)),(t,0,10))"
   ]
  },
  {
   "cell_type": "code",
   "execution_count": null,
   "metadata": {},
   "outputs": [],
   "source": [
    "#3: Predictor-Corrected Method"
   ]
  },
  {
   "cell_type": "code",
   "execution_count": null,
   "metadata": {},
   "outputs": [],
   "source": [
    "#4: Verlet Algorithm"
   ]
  },
  {
   "cell_type": "code",
   "execution_count": null,
   "metadata": {},
   "outputs": [],
   "source": [
    "#5: Leapfrog Algorithm"
   ]
  },
  {
   "cell_type": "code",
   "execution_count": null,
   "metadata": {},
   "outputs": [],
   "source": [
    "#6: Velocity Verlet Algorithm"
   ]
  }
 ],
 "metadata": {
  "kernelspec": {
   "display_name": "Python 3",
   "language": "python",
   "name": "python3"
  },
  "language_info": {
   "codemirror_mode": {
    "name": "ipython",
    "version": 3
   },
   "file_extension": ".py",
   "mimetype": "text/x-python",
   "name": "python",
   "nbconvert_exporter": "python",
   "pygments_lexer": "ipython3",
   "version": "3.7.3"
  }
 },
 "nbformat": 4,
 "nbformat_minor": 2
}
